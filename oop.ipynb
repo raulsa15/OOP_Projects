{
 "cells": [
  {
   "cell_type": "markdown",
   "metadata": {},
   "source": [
    "# Classes and Instances:\n",
    "\n",
    "__init__ functions are executed everytime you call the method, example: generate API key\n",
    "\n",
    "Ordinary functions have to be explicited called\n"
   ]
  },
  {
   "cell_type": "code",
   "execution_count": 111,
   "metadata": {},
   "outputs": [],
   "source": [
    "#Creat a class to determine what is a point:\n",
    "class Point:\n",
    "    \n",
    "    def __init__(self, x, y):\n",
    "        self.x=x\n",
    "        self.y=y\n",
    "        \n",
    "    def falls_in_rectangle(self, rectangle):\n",
    "        if rectangle.lowleft.x<self.x<rectangle.upright.x \\\n",
    "        and rectangle.lowleft.y<self.y<rectangle.upright.y:\n",
    "            return True\n",
    "        else:\n",
    "            return False\n",
    "        \n",
    "    def distance(self, point):\n",
    "        return (((self.x-point.x)**2)+((self.y-point.y)**2))**0.5"
   ]
  },
  {
   "cell_type": "code",
   "execution_count": 112,
   "metadata": {},
   "outputs": [],
   "source": [
    "\n",
    "class Rectangle:\n",
    "    \n",
    "    #define rectangle type:\n",
    "    def __init__(self, lowleft, upright):\n",
    "        self.lowleft=lowleft\n",
    "        self.upright=upright\n",
    "        \n",
    "    def area(self):\n",
    "        return abs(self.lowleft.x-self.upright.x)*abs(self.lowleft.y-self.upright.y)"
   ]
  },
  {
   "cell_type": "code",
   "execution_count": 113,
   "metadata": {},
   "outputs": [],
   "source": [
    "rectanglex=Rectangle(Point(5,6), Point(7,9))"
   ]
  },
  {
   "cell_type": "code",
   "execution_count": 114,
   "metadata": {},
   "outputs": [
    {
     "data": {
      "text/plain": [
       "True"
      ]
     },
     "execution_count": 114,
     "metadata": {},
     "output_type": "execute_result"
    }
   ],
   "source": [
    "Point(6,8).falls_in_rectangle(rectanglex)"
   ]
  },
  {
   "cell_type": "code",
   "execution_count": 115,
   "metadata": {},
   "outputs": [
    {
     "data": {
      "text/plain": [
       "False"
      ]
     },
     "execution_count": 115,
     "metadata": {},
     "output_type": "execute_result"
    }
   ],
   "source": [
    "point2=Point(3,4)\n",
    "point2.falls_in_rectangle(Rectangle(Point(5,6),Point(7,9)))"
   ]
  },
  {
   "cell_type": "code",
   "execution_count": 116,
   "metadata": {},
   "outputs": [],
   "source": [
    "point1=Point(10, 20)"
   ]
  },
  {
   "cell_type": "code",
   "execution_count": 117,
   "metadata": {},
   "outputs": [
    {
     "data": {
      "text/plain": [
       "17.46424919657298"
      ]
     },
     "execution_count": 117,
     "metadata": {},
     "output_type": "execute_result"
    }
   ],
   "source": [
    "point1.distance(point2)"
   ]
  },
  {
   "cell_type": "code",
   "execution_count": 118,
   "metadata": {},
   "outputs": [
    {
     "data": {
      "text/plain": [
       "__main__.Point"
      ]
     },
     "execution_count": 118,
     "metadata": {},
     "output_type": "execute_result"
    }
   ],
   "source": [
    "type(point1)"
   ]
  },
  {
   "cell_type": "code",
   "execution_count": 119,
   "metadata": {},
   "outputs": [],
   "source": [
    "class House:\n",
    "    \n",
    "    def __init__(self, wall_area):\n",
    "        \n",
    "        self.wall_area=wall_area"
   ]
  },
  {
   "cell_type": "code",
   "execution_count": 120,
   "metadata": {},
   "outputs": [],
   "source": [
    "class Person:\n",
    "    \n",
    "    def __init__(self, name, age):\n",
    "        self.name=name #atributos da classe (nome e idade)\n",
    "        self.age=age"
   ]
  },
  {
   "cell_type": "code",
   "execution_count": 121,
   "metadata": {},
   "outputs": [],
   "source": [
    "person1=Person(\"Joao\", 15)"
   ]
  },
  {
   "cell_type": "code",
   "execution_count": 122,
   "metadata": {},
   "outputs": [
    {
     "name": "stdout",
     "output_type": "stream",
     "text": [
      "Joao 15\n"
     ]
    }
   ],
   "source": [
    "print(person1.name, person1.age)"
   ]
  },
  {
   "cell_type": "code",
   "execution_count": 123,
   "metadata": {},
   "outputs": [
    {
     "data": {
      "text/plain": [
       "<__main__.Person at 0x25738098e20>"
      ]
     },
     "execution_count": 123,
     "metadata": {},
     "output_type": "execute_result"
    }
   ],
   "source": [
    "person1"
   ]
  },
  {
   "cell_type": "code",
   "execution_count": 124,
   "metadata": {},
   "outputs": [
    {
     "name": "stdout",
     "output_type": "stream",
     "text": [
      "<__main__.Person object at 0x0000025738098E20>\n"
     ]
    }
   ],
   "source": [
    "print(person1)"
   ]
  },
  {
   "cell_type": "code",
   "execution_count": 125,
   "metadata": {},
   "outputs": [
    {
     "data": {
      "text/plain": [
       "9"
      ]
     },
     "execution_count": 125,
     "metadata": {},
     "output_type": "execute_result"
    }
   ],
   "source": [
    "Rectangle(Point(1,1),Point(4,4)).area()"
   ]
  },
  {
   "cell_type": "markdown",
   "metadata": {},
   "source": [
    "Solution"
   ]
  },
  {
   "cell_type": "code",
   "execution_count": 126,
   "metadata": {},
   "outputs": [
    {
     "name": "stdout",
     "output_type": "stream",
     "text": [
      "Rectangle Coordinates:  1 , 8 and 16 , 18\n",
      "Your point was inside rectangle:  False\n",
      "Your area was off by:  139.0\n"
     ]
    }
   ],
   "source": [
    "from random import randint\n",
    " \n",
    "class Point:\n",
    " \n",
    "    def __init__(self, x, y):\n",
    "        self.x = x\n",
    "        self.y = y\n",
    " \n",
    "    def falls_in_rectangle(self, rectangle):\n",
    "        if rectangle.point1.x < self.x < rectangle.point2.x \\\n",
    "                and rectangle.point1.y < self.y < rectangle.point2.y:\n",
    "            return True\n",
    "        else:\n",
    "            return False\n",
    " \n",
    " \n",
    "class Rectangle:\n",
    " \n",
    "    def __init__(self, point1, point2):\n",
    "        self.point1 = point1\n",
    "        self.point2 = point2\n",
    " \n",
    "    def area(self):\n",
    "        return (self.point2.x - self.point1.x) * \\\n",
    "               (self.point2.y - self.point1.y)\n",
    " \n",
    " \n",
    "# Create rectangle object\n",
    "rectangle = Rectangle(Point(randint(0, 9), randint(0, 9)), \n",
    "              Point(randint(10, 19), randint(10, 19)))\n",
    " \n",
    "# Print rectangle coordinates\n",
    "print(\"Rectangle Coordinates: \",\n",
    "      rectangle.point1.x, \",\",\n",
    "      rectangle.point1.y, \"and\",\n",
    "      rectangle.point2.x, \",\",\n",
    "      rectangle.point2.y)\n",
    " \n",
    "# Get point and area from user\n",
    "user_point = Point(float(input(\"Guess x: \")), float(input(\"Guess y: \")))\n",
    "user_area = float(input(\"Guess rectangle area: \"))\n",
    " \n",
    "# Print out the game result\n",
    "print(\"Your point was inside rectangle: \", user_point.falls_in_rectangle(rectangle))\n",
    "print(\"Your area was off by: \", rectangle.area() - user_area)"
   ]
  },
  {
   "cell_type": "code",
   "execution_count": 2,
   "metadata": {},
   "outputs": [],
   "source": [
    "import turtle\n",
    "\n",
    "myturtle=turtle.Turtle()\n",
    "\n",
    "myturtle.forward(100)\n",
    "myturtle.left(90)\n",
    "\n",
    "turtle.done()"
   ]
  },
  {
   "cell_type": "code",
   "execution_count": 26,
   "metadata": {},
   "outputs": [
    {
     "name": "stdout",
     "output_type": "stream",
     "text": [
      "50000\n",
      "52000\n",
      "{'first': 'Raul', 'last': 'Aguiar', 'pay': 52000, 'email': 'Raul.Aguiar@augme.com.br'}\n",
      "54600\n",
      "1\n",
      "1.06\n"
     ]
    }
   ],
   "source": [
    "#Class and Instances\n",
    "\n",
    "class Employee:\n",
    "    \n",
    "    #Class Variables\n",
    "    raise_amount=1.04\n",
    "    num_emp=0\n",
    "    \n",
    "    def __init__(self, first, last, pay):\n",
    "        \n",
    "        self.first=first\n",
    "        self.last=last\n",
    "        self.pay=pay\n",
    "        self.email=first+'.'+last+'@augme.com.br'\n",
    "        \n",
    "        Employee.num_emp+=1\n",
    "    \n",
    "    #method fullname   \n",
    "    def fullname(self):\n",
    "        return self.first + ' ' + self.last\n",
    "    \n",
    "    def apply_raise(self):\n",
    "        self.pay=int(self.pay*self.raise_amount)\n",
    "        \n",
    "    @classmethod #study about decorators (receive class as first argument instead of instance)\n",
    "    def set_raise(cls, amount):\n",
    "        cls.raise_amount=amount\n",
    "                \n",
    "    \n",
    "employee1=Employee('Raul', 'Aguiar', 50000)\n",
    "\n",
    "Employee.fullname(employee1)\n",
    "\n",
    "employee1.fullname()\n",
    "\n",
    "print(employee1.pay)\n",
    "\n",
    "employee1.apply_raise()\n",
    "\n",
    "print(employee1.pay)\n",
    "\n",
    "print(employee1.__dict__)\n",
    "\n",
    "employee1.raise_amount=1.05\n",
    "\n",
    "employee1.apply_raise()\n",
    "\n",
    "print(employee1.pay)\n",
    "\n",
    "print(Employee.num_emp)\n",
    "\n",
    "Employee.set_raise(1.06)\n",
    "print(Employee.raise_amount)"
   ]
  },
  {
   "cell_type": "code",
   "execution_count": 29,
   "metadata": {},
   "outputs": [
    {
     "name": "stdout",
     "output_type": "stream",
     "text": [
      "50000\n",
      "52000\n",
      "{'first': 'Raul', 'last': 'Aguiar', 'pay': 52000, 'email': 'Raul.Aguiar@augme.com.br'}\n",
      "54600\n",
      "1\n",
      "1.06\n",
      "<__main__.Employee object at 0x000001FC0433A230>\n",
      "True\n"
     ]
    }
   ],
   "source": [
    "#Class and Instances\n",
    "import datetime\n",
    "\n",
    "class Employee:\n",
    "    \n",
    "    #Class Variables\n",
    "    raise_amount=1.04\n",
    "    num_emp=0\n",
    "    \n",
    "    def __init__(self, first, last, pay):\n",
    "        \n",
    "        self.first=first\n",
    "        self.last=last\n",
    "        self.pay=pay\n",
    "        self.email=first+'.'+last+'@augme.com.br'\n",
    "        \n",
    "        Employee.num_emp+=1\n",
    "    \n",
    "    #method fullname   \n",
    "    def fullname(self):\n",
    "        return self.first + ' ' + self.last\n",
    "    \n",
    "    def apply_raise(self):\n",
    "        self.pay=int(self.pay*self.raise_amount)\n",
    "        \n",
    "    @classmethod #study about decorators (receive class as first argument instead of instance)\n",
    "    def set_raise(cls, amount):\n",
    "        cls.raise_amount=amount\n",
    "        \n",
    "    @classmethod\n",
    "    def from_string(cls, emp_str):\n",
    "        first, last, pay= emp_str.split('-')\n",
    "        return cls(first, last, pay)        \n",
    "                \n",
    "    @staticmethod\n",
    "    def is_workday(day):\n",
    "        if day.weekday()==5 or day.weekday==6:\n",
    "            return False\n",
    "        else:\n",
    "            return True\n",
    "        \n",
    "    \n",
    "employee1=Employee('Raul', 'Aguiar', 50000)\n",
    "\n",
    "Employee.fullname(employee1)\n",
    "\n",
    "employee1.fullname()\n",
    "\n",
    "print(employee1.pay)\n",
    "\n",
    "employee1.apply_raise()\n",
    "\n",
    "print(employee1.pay)\n",
    "\n",
    "print(employee1.__dict__)\n",
    "\n",
    "employee1.raise_amount=1.05\n",
    "\n",
    "employee1.apply_raise()\n",
    "\n",
    "print(employee1.pay)\n",
    "\n",
    "print(Employee.num_emp)\n",
    "\n",
    "Employee.set_raise(1.06)\n",
    "\n",
    "#Now we can alter raise amount value with the class method and not only do changes for a specific object\n",
    "print(Employee.raise_amount)\n",
    "\n",
    "#Classmethods and staticmethods:\n",
    "\n",
    "emp_str1='Joao-Aguiar-150000'\n",
    "employee2=Employee.from_string(emp_str1)\n",
    "print(employee2)\n",
    "\n",
    "#Static method:\n",
    "\n",
    "my_date=datetime.date(2024,1,18)\n",
    "print(Employee.is_workday(my_date))"
   ]
  }
 ],
 "metadata": {
  "kernelspec": {
   "display_name": "venv",
   "language": "python",
   "name": "python3"
  },
  "language_info": {
   "codemirror_mode": {
    "name": "ipython",
    "version": 3
   },
   "file_extension": ".py",
   "mimetype": "text/x-python",
   "name": "python",
   "nbconvert_exporter": "python",
   "pygments_lexer": "ipython3",
   "version": "3.10.11"
  }
 },
 "nbformat": 4,
 "nbformat_minor": 2
}
